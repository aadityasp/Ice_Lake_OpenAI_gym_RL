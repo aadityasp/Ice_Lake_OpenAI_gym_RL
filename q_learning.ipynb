{
 "cells": [
  {
   "cell_type": "code",
   "execution_count": 26,
   "id": "755d3404",
   "metadata": {},
   "outputs": [],
   "source": [
    "import numpy as np\n",
    "import gym\n",
    "import random\n",
    "import time\n",
    "from IPython.display import clear_output\n"
   ]
  },
  {
   "cell_type": "code",
   "execution_count": 27,
   "id": "052660aa",
   "metadata": {},
   "outputs": [],
   "source": [
    "env = gym.make(\"FrozenLake-v0\")"
   ]
  },
  {
   "cell_type": "code",
   "execution_count": 28,
   "id": "949e2575",
   "metadata": {},
   "outputs": [],
   "source": [
    "actions_count= env.action_space.n"
   ]
  },
  {
   "cell_type": "code",
   "execution_count": 29,
   "id": "38836a05",
   "metadata": {},
   "outputs": [],
   "source": [
    "states_count = env.observation_space.n"
   ]
  },
  {
   "cell_type": "code",
   "execution_count": 30,
   "id": "2c62c08e",
   "metadata": {},
   "outputs": [],
   "source": [
    "q_table = np.zeros((states_count, actions_count))"
   ]
  },
  {
   "cell_type": "code",
   "execution_count": 31,
   "id": "aa0745e5",
   "metadata": {},
   "outputs": [
    {
     "data": {
      "text/plain": [
       "array([[0., 0., 0., 0.],\n",
       "       [0., 0., 0., 0.],\n",
       "       [0., 0., 0., 0.],\n",
       "       [0., 0., 0., 0.],\n",
       "       [0., 0., 0., 0.],\n",
       "       [0., 0., 0., 0.],\n",
       "       [0., 0., 0., 0.],\n",
       "       [0., 0., 0., 0.],\n",
       "       [0., 0., 0., 0.],\n",
       "       [0., 0., 0., 0.],\n",
       "       [0., 0., 0., 0.],\n",
       "       [0., 0., 0., 0.],\n",
       "       [0., 0., 0., 0.],\n",
       "       [0., 0., 0., 0.],\n",
       "       [0., 0., 0., 0.],\n",
       "       [0., 0., 0., 0.]])"
      ]
     },
     "execution_count": 31,
     "metadata": {},
     "output_type": "execute_result"
    }
   ],
   "source": [
    "q_table"
   ]
  },
  {
   "cell_type": "code",
   "execution_count": 32,
   "id": "cf357357",
   "metadata": {},
   "outputs": [],
   "source": [
    "total_num_episodes = 10000\n",
    "max_moves_per_episode= 100\n",
    "\n",
    "learning_rate= 0.1 #alpha\n",
    "discount_rate = 0.99 #gamma\n",
    "\n",
    "#epsilon. refer epsilon greedy policy.\n",
    "exploration_rate = 1\n",
    "max_exploration_rate = 1\n",
    "min_exploration_rate= 0.01\n",
    "\n",
    "#rate at which exploration_rate will decay\n",
    "exploration_decay_rate= 0.001\n"
   ]
  },
  {
   "cell_type": "code",
   "execution_count": 33,
   "id": "c909cab0",
   "metadata": {},
   "outputs": [],
   "source": [
    "rewards_from_all_episodes= []\n",
    "\n",
    "#Q_learning Algorithm\n",
    "\n",
    "#iterate over episodes:\n",
    "for episode in range(total_num_episodes):\n",
    "    #for each episode first reset the state of the agent to starting state.\n",
    "    state= env.reset()\n",
    "    episode_done = False #keeps track if the episode is completed or not.\n",
    "    current_episode_reward =0\n",
    "    \n",
    "    \n",
    "    #iterate over time_steps in an episode:\n",
    "    for step in range(max_moves_per_episode):\n",
    "        #exploration-exploitation trade-off- calculate using e-greedy and random number from(0-1)\n",
    "        exploration_rate_threshold = random.uniform(0,1)\n",
    "        if exploration_rate_threshold> exploration_rate:\n",
    "            action = np.argmax(q_table[state,:]) #exploitation #choose action with highest Q-val\n",
    "        else:\n",
    "            action = env.action_space.sample() #exploration #select an action randomly from action space.\n",
    "        #Take a new action\n",
    "        new_state, reward, episode_done, info = env.step(action)\n",
    "#        print(reward)\n",
    "        #Update Qtable\n",
    "        #weighted sum of old value and learned value\n",
    "        q_table[state,action] = q_table[state,action]*(1-learning_rate) + learning_rate*(reward + discount_rate*np.max(q_table[new_state,:]))\n",
    "        #Set new state\n",
    "        state = new_state\n",
    "        #Add new reward\n",
    "        current_episode_reward += reward\n",
    "        if episode_done == True:\n",
    "            break\n",
    "    #exploration rate decay #decay using exponential decay\n",
    "    exploration_rate= min_exploration_rate + (max_exploration_rate-min_exploration_rate)*np.exp(-exploration_decay_rate*episode)\n",
    "    #Add current episodes reward to reward list\n",
    "    rewards_from_all_episodes.append(current_episode_reward)\n",
    "    \n",
    "        "
   ]
  },
  {
   "cell_type": "code",
   "execution_count": 34,
   "id": "38f5e0b8",
   "metadata": {},
   "outputs": [
    {
     "name": "stdout",
     "output_type": "stream",
     "text": [
      "Average reward after 1000 episodes : 0.05300000000000004\n",
      "Average reward after 2000 episodes : 0.20400000000000015\n",
      "Average reward after 3000 episodes : 0.4200000000000003\n",
      "Average reward after 4000 episodes : 0.5160000000000003\n",
      "Average reward after 5000 episodes : 0.6260000000000004\n",
      "Average reward after 6000 episodes : 0.6640000000000005\n",
      "Average reward after 7000 episodes : 0.6690000000000005\n",
      "Average reward after 8000 episodes : 0.6960000000000005\n",
      "Average reward after 9000 episodes : 0.6820000000000005\n",
      "Average reward after 10000 episodes : 0.7010000000000005\n"
     ]
    }
   ],
   "source": [
    "rewards_per_thousand_episodes= np.split(np.array(rewards_from_all_episodes),total_num_episodes/1000)\n",
    "count =1000\n",
    "\n",
    "for reward in rewards_per_thousand_episodes:\n",
    "    print('Average reward after', count,'episodes' ,':' ,   str(sum(reward/1000)))\n",
    "    count+= 1000"
   ]
  },
  {
   "cell_type": "code",
   "execution_count": 35,
   "id": "7283452c",
   "metadata": {},
   "outputs": [
    {
     "data": {
      "text/plain": [
       "array([[0.54263621, 0.49091474, 0.5092613 , 0.49189985],\n",
       "       [0.33805722, 0.26652998, 0.23082938, 0.51051787],\n",
       "       [0.39525004, 0.29258623, 0.26023072, 0.248822  ],\n",
       "       [0.03694571, 0.11625917, 0.03232122, 0.04870128],\n",
       "       [0.56096142, 0.42119434, 0.39961486, 0.39849727],\n",
       "       [0.        , 0.        , 0.        , 0.        ],\n",
       "       [0.18341823, 0.14923575, 0.29559957, 0.09857666],\n",
       "       [0.        , 0.        , 0.        , 0.        ],\n",
       "       [0.43553631, 0.51469593, 0.39521782, 0.59631836],\n",
       "       [0.43182487, 0.64528456, 0.43290936, 0.39625022],\n",
       "       [0.6022408 , 0.38926498, 0.3685924 , 0.21723127],\n",
       "       [0.        , 0.        , 0.        , 0.        ],\n",
       "       [0.        , 0.        , 0.        , 0.        ],\n",
       "       [0.56258663, 0.57275832, 0.76829091, 0.36285588],\n",
       "       [0.75640054, 0.85047867, 0.79942012, 0.77080148],\n",
       "       [0.        , 0.        , 0.        , 0.        ]])"
      ]
     },
     "execution_count": 35,
     "metadata": {},
     "output_type": "execute_result"
    }
   ],
   "source": [
    "q_table"
   ]
  },
  {
   "cell_type": "code",
   "execution_count": 36,
   "id": "b8724427",
   "metadata": {},
   "outputs": [],
   "source": [
    "#Visualize the trained Agent play the game\n"
   ]
  },
  {
   "cell_type": "code",
   "execution_count": 38,
   "id": "78dc86be",
   "metadata": {},
   "outputs": [
    {
     "ename": "KeyboardInterrupt",
     "evalue": "",
     "output_type": "error",
     "traceback": [
      "\u001b[0;31m---------------------------------------------------------------------------\u001b[0m",
      "\u001b[0;31mKeyboardInterrupt\u001b[0m                         Traceback (most recent call last)",
      "\u001b[0;32m<ipython-input-38-c03673e798e3>\u001b[0m in \u001b[0;36m<module>\u001b[0;34m\u001b[0m\n\u001b[1;32m     11\u001b[0m         \u001b[0mclear_output\u001b[0m\u001b[0;34m(\u001b[0m\u001b[0mwait\u001b[0m\u001b[0;34m=\u001b[0m\u001b[0;32mTrue\u001b[0m\u001b[0;34m)\u001b[0m\u001b[0;34m\u001b[0m\u001b[0;34m\u001b[0m\u001b[0m\n\u001b[1;32m     12\u001b[0m \u001b[0;31m#         env.render()\u001b[0m\u001b[0;34m\u001b[0m\u001b[0;34m\u001b[0m\u001b[0;34m\u001b[0m\u001b[0m\n\u001b[0;32m---> 13\u001b[0;31m         \u001b[0mtime\u001b[0m\u001b[0;34m.\u001b[0m\u001b[0msleep\u001b[0m\u001b[0;34m(\u001b[0m\u001b[0;36m0.7\u001b[0m\u001b[0;34m)\u001b[0m\u001b[0;34m\u001b[0m\u001b[0;34m\u001b[0m\u001b[0m\n\u001b[0m\u001b[1;32m     14\u001b[0m         \u001b[0;31m#select the action with highest Qvalue in the Qtable\u001b[0m\u001b[0;34m\u001b[0m\u001b[0;34m\u001b[0m\u001b[0;34m\u001b[0m\u001b[0m\n\u001b[1;32m     15\u001b[0m         \u001b[0maction\u001b[0m \u001b[0;34m=\u001b[0m \u001b[0mnp\u001b[0m\u001b[0;34m.\u001b[0m\u001b[0margmax\u001b[0m\u001b[0;34m(\u001b[0m\u001b[0mq_table\u001b[0m\u001b[0;34m[\u001b[0m\u001b[0mstate\u001b[0m\u001b[0;34m,\u001b[0m\u001b[0;34m:\u001b[0m\u001b[0;34m]\u001b[0m\u001b[0;34m)\u001b[0m\u001b[0;34m\u001b[0m\u001b[0;34m\u001b[0m\u001b[0m\n",
      "\u001b[0;31mKeyboardInterrupt\u001b[0m: "
     ]
    }
   ],
   "source": [
    "#watch 5 episodes\n",
    "for episode in range(5):\n",
    "    #initalize parameters for new episode.\n",
    "    state = env.reset()\n",
    "    done = False\n",
    "    print(\"Episode\", episode+1,\"\\n\\n\\n\\n\")\n",
    "    time.sleep(1)\n",
    "    \n",
    "    for step in range(max_moves_per_episode):\n",
    "        #render current sate\n",
    "        clear_output(wait=True)\n",
    "        env.render()\n",
    "        time.sleep(0.7)\n",
    "        #select the action with highest Qvalue in the Qtable\n",
    "        action = np.argmax(q_table[state,:])\n",
    "        #take new action\n",
    "        new_state,reward,done,info =env.step(action)\n",
    "       \n",
    "        if done:\n",
    "            clear_output(wait=True)\n",
    "            env.render()\n",
    "            \n",
    "            if reward ==1:\n",
    "                print(\"YOU REACHED THE GOAL\")\n",
    "                #Agent reached goal\n",
    "                time.sleep(5)\n",
    "            else:\n",
    "                print(\"YOU FELL IN THE HOLE\")\n",
    "                #agent fell in a hole\n",
    "                time.sleep(5)\n",
    "            break\n",
    "        #set new state\n",
    "        state = new_state\n",
    "        \n",
    "env.close()"
   ]
  },
  {
   "cell_type": "code",
   "execution_count": null,
   "id": "b2df846a",
   "metadata": {},
   "outputs": [],
   "source": []
  }
 ],
 "metadata": {
  "kernelspec": {
   "display_name": "Python 3",
   "language": "python",
   "name": "python3"
  },
  "language_info": {
   "codemirror_mode": {
    "name": "ipython",
    "version": 3
   },
   "file_extension": ".py",
   "mimetype": "text/x-python",
   "name": "python",
   "nbconvert_exporter": "python",
   "pygments_lexer": "ipython3",
   "version": "3.6.10"
  }
 },
 "nbformat": 4,
 "nbformat_minor": 5
}
